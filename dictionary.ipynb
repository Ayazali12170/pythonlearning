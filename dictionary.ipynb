{
 "cells": [
  {
   "cell_type": "code",
   "execution_count": 1,
   "id": "d8ff6489-3a08-4ef0-bafd-fc2a44fbd643",
   "metadata": {},
   "outputs": [
    {
     "ename": "TypeError",
     "evalue": "Inventory.add_books() missing 1 required positional argument: 'quantity'",
     "output_type": "error",
     "traceback": [
      "\u001b[1;31m---------------------------------------------------------------------------\u001b[0m",
      "\u001b[1;31mTypeError\u001b[0m                                 Traceback (most recent call last)",
      "Cell \u001b[1;32mIn[1], line 35\u001b[0m\n\u001b[0;32m     32\u001b[0m         \u001b[38;5;28;01melse\u001b[39;00m:\n\u001b[0;32m     33\u001b[0m             \u001b[38;5;28mprint\u001b[39m(\u001b[38;5;124m\"\u001b[39m\u001b[38;5;124mthis book was not borrowed from this library\u001b[39m\u001b[38;5;124m\"\u001b[39m)\n\u001b[1;32m---> 35\u001b[0m add1\u001b[38;5;241m=\u001b[39m\u001b[43mInventory\u001b[49m\u001b[38;5;241;43m.\u001b[39;49m\u001b[43madd_books\u001b[49m\u001b[43m(\u001b[49m\u001b[38;5;124;43m\"\u001b[39;49m\u001b[38;5;124;43menglish\u001b[39;49m\u001b[38;5;124;43m\"\u001b[39;49m\u001b[43m,\u001b[49m\u001b[38;5;241;43m10\u001b[39;49m\u001b[43m)\u001b[49m\n\u001b[0;32m     36\u001b[0m \u001b[38;5;28mprint\u001b[39m(add1)\n",
      "\u001b[1;31mTypeError\u001b[0m: Inventory.add_books() missing 1 required positional argument: 'quantity'"
     ]
    }
   ],
   "source": [
    "class Inventory:\n",
    "    def __init__(self,title,quantity):\n",
    "       self.books={}\n",
    "       self.title=title\n",
    "       self.quantity=quantity\n",
    "\n",
    "    def  add_books(self,title:str, quantity:int):\n",
    "        self.books[title]=quantity\n",
    "        print(\"added successfully\")\n",
    "\n",
    "    def display_inventory(self):\n",
    "        print(\"current inventory is\")\n",
    "        for title,quantity in self.books.items():\n",
    "            print(f\"{title} : {quantity}\")\n",
    "    \n",
    "    def remove_book(self,title):\n",
    "        if title in self.books:\n",
    "            del self.books[title]\n",
    "\n",
    "        else:\n",
    "            print(f\"{self.books[title]} is not found in inventory\")\n",
    "    \n",
    "    def borrow_books(self,title):\n",
    "        if title in self.books[title] and self.books[title]>0:\n",
    "            self.books[title]-=1\n",
    "            print(f\"{self.books[title]}  has been borrowed successfully\")\n",
    "        \n",
    "    def return_book(self,title):\n",
    "        if title in self.books[title]:\n",
    "            self.books[title]+=1\n",
    "            print (f\"Thanks for returning book\")\n",
    "        else:\n",
    "            print(\"this book was not borrowed from this library\")\n",
    "        \n",
    "add1=Inventory.add_books(\"english\",10)\n",
    "print(add1)"
   ]
  },
  {
   "cell_type": "code",
   "execution_count": 3,
   "id": "ab4cb807-2e37-4c7e-bcec-d8924e6f2b2c",
   "metadata": {},
   "outputs": [
    {
     "name": "stdout",
     "output_type": "stream",
     "text": [
      "30\n",
      "2\n"
     ]
    }
   ],
   "source": [
    "a=int(input(\"enter first number\"))\n",
    "b=int(input(\"enter second number\"))\n",
    "def add(a,b):\n",
    "    return (a+b)\n",
    "def sub(a,b):\n",
    "    return(a-b)\n",
    "def multiply(a,b):\n",
    "    return(a*b)\n",
    "def divide(a,b):\n",
    "    return(a/b)\n",
    "\n",
    "print(add(a,b))\n",
    "print(sub(12,10))\n"
   ]
  },
  {
   "cell_type": "code",
   "execution_count": 6,
   "id": "797d24f2",
   "metadata": {},
   "outputs": [
    {
     "name": "stdout",
     "output_type": "stream",
     "text": [
      "its Not a palindrome\n"
     ]
    }
   ],
   "source": [
    "word=input(\"write a word\")\n",
    "backword=word[::-1]\n",
    "\n",
    "if word==backword:\n",
    "    print(f\"{word} is a palindrome\")\n",
    "\n",
    "else :\n",
    "    print(\"its Not a palindrome\")"
   ]
  },
  {
   "cell_type": "code",
   "execution_count": 7,
   "id": "64e6e51c",
   "metadata": {},
   "outputs": [
    {
     "name": "stdout",
     "output_type": "stream",
     "text": [
      "he:2\n",
      "is:3\n",
      "a:1\n",
      "boy:1\n",
      "likes:1\n"
     ]
    }
   ],
   "source": [
    "paragraph=input(\"enter paragraph\")\n",
    "paragraph=paragraph.lower()\n",
    "words=paragraph.split()\n",
    "word_frequency={}\n",
    "\n",
    "for word in words:\n",
    "    if word in word_frequency:\n",
    "        word_frequency[word] +=1\n",
    "\n",
    "    else:\n",
    "        word_frequency[word]=1\n",
    "\n",
    "for word ,count in word_frequency.items():\n",
    "    print(f\"{word}:{count}\")\n"
   ]
  },
  {
   "cell_type": "code",
   "execution_count": 16,
   "id": "be2a5760",
   "metadata": {},
   "outputs": [
    {
     "name": "stdout",
     "output_type": "stream",
     "text": [
      "[0, 1, 1, 2, 3, 5, 8, 13, 21, 34]\n"
     ]
    }
   ],
   "source": [
    "n=int(input(\"enter a number\"))\n",
    "list=[0,1,1]\n",
    "for i in range(n-3):\n",
    "    list.append(list[-1]+list[-2])\n",
    "print(list)"
   ]
  },
  {
   "cell_type": "code",
   "execution_count": 45,
   "id": "11d8eab2",
   "metadata": {},
   "outputs": [
    {
     "name": "stdout",
     "output_type": "stream",
     "text": [
      "itsprime  number\n"
     ]
    }
   ],
   "source": [
    "number=int(input(\"enter a number\"))\n",
    "def is_prime(number):\n",
    "    if number<=1:\n",
    "        return False\n",
    "    for i in range(2,number):\n",
    "        if number%i==0:\n",
    "            return True\n",
    "if is_prime(number):\n",
    "    print (f\"{number} is not a prime number\")\n",
    "else:\n",
    "    print(\"its a prime  number\")"
   ]
  },
  {
   "cell_type": "code",
   "execution_count": 2,
   "id": "fac9117e",
   "metadata": {},
   "outputs": [
    {
     "name": "stdout",
     "output_type": "stream",
     "text": [
      "[1, 4, 9, 16, 16]\n",
      "1 :1\n",
      "2 :1\n",
      "3 :1\n",
      "4 :2\n"
     ]
    }
   ],
   "source": [
    "list=[1,2,3,4,4]\n",
    "list1=[m**2 for m in list ]\n",
    "print(list1)\n",
    "frequency={}\n",
    "for word in list:\n",
    "    if word in frequency:\n",
    "        frequency[word]+=1\n",
    "    else:\n",
    "        frequency[word]=1\n",
    "for word,count in frequency.items():\n",
    "    print(f\"{word} :{count}\")"
   ]
  },
  {
   "cell_type": "code",
   "execution_count": 6,
   "id": "b6eb7175",
   "metadata": {},
   "outputs": [
    {
     "name": "stdout",
     "output_type": "stream",
     "text": [
      "{'ayaz': 30, 'zoha': 23, 'izyan': 3, 'ayra': 1, 'sakina': 40, 'ali': 50}\n"
     ]
    }
   ],
   "source": [
    "# Write a program that creates a dictionary to store the names and ages of five people. Then, print the dictionary.\n",
    "\n",
    "dictt={}\n",
    "for i in range(6):\n",
    "    name=input(\"enter your name\")\n",
    "    age=  int(input(\"enter your age\"))\n",
    "    dictt[name]=age\n",
    "\n",
    "print(dictt)\n",
    "    \n"
   ]
  },
  {
   "cell_type": "code",
   "execution_count": 7,
   "id": "b48ded11",
   "metadata": {},
   "outputs": [
    {
     "name": "stdout",
     "output_type": "stream",
     "text": [
      "90\n"
     ]
    }
   ],
   "source": [
    "# Given the dictionary below, write code to access and print the value associated with the key \"Math\"\n",
    "grades = {\"Math\": 90, \"Science\": 85, \"English\": 88}\n",
    "print(grades[\"Math\"])"
   ]
  },
  {
   "cell_type": "code",
   "execution_count": 9,
   "id": "a52bb364",
   "metadata": {},
   "outputs": [
    {
     "name": "stdout",
     "output_type": "stream",
     "text": [
      "{'Alice': 40, 'Bob': 30, 'Charlie': 35}\n"
     ]
    }
   ],
   "source": [
    "people = {\"Alice\": 25, \"Bob\": 30, \"Charlie\": 35}\n",
    "people[\"Alice\"]=40\n",
    "print(people)"
   ]
  },
  {
   "cell_type": "code",
   "execution_count": 11,
   "id": "1638244a",
   "metadata": {},
   "outputs": [
    {
     "name": "stdout",
     "output_type": "stream",
     "text": [
      "{'pens': 10, 'notebooks': 5, 'erasers': 2, 'pencils': 15}\n",
      "{'pens': 10, 'notebooks': 5, 'pencils': 15}\n"
     ]
    }
   ],
   "source": [
    "inventory = {\"pens\": 10, \"notebooks\": 5, \"erasers\": 2}\n",
    "inventory[\"pencils\"]=15\n",
    "print(inventory)\n",
    "del inventory[\"erasers\"]\n",
    "print(inventory)"
   ]
  },
  {
   "cell_type": "code",
   "execution_count": 19,
   "id": "0957b463",
   "metadata": {},
   "outputs": [
    {
     "name": "stdout",
     "output_type": "stream",
     "text": [
      "average : 85.0\n"
     ]
    }
   ],
   "source": [
    "# Write a program to iterate over a dictionary and print all key-value pairs in the following dictionary\n",
    "student_scores = {\"John\": 85, \"Emma\": 92, \"Lucas\": 78}\n",
    "sum=0\n",
    "n=0\n",
    "for name,score in student_scores.items():\n",
    "        sum+=score\n",
    "        n+=1\n",
    "print(f\"average : {sum/n}\")"
   ]
  },
  {
   "cell_type": "code",
   "execution_count": 22,
   "id": "17425234",
   "metadata": {},
   "outputs": [
    {
     "name": "stdout",
     "output_type": "stream",
     "text": [
      "does not exist\n"
     ]
    }
   ],
   "source": [
    "# Write a program that checks whether the key \"Physics\" exists in the following dictionary. If it exists, print its value\n",
    "subjects = {\"Math\": 80, \"Biology\": 75, \"Chemistry\": 89}\n",
    "check=(input(\"to check\")).lower()\n",
    "\n",
    "def to_check():\n",
    "    for name,score in subjects.items():\n",
    "      if name.lower()==check:\n",
    "        return  True\n",
    "\n",
    "if to_check():\n",
    "   print(\"it exist\")\n",
    "\n",
    "else:\n",
    "   print(\"does not exist\")"
   ]
  },
  {
   "cell_type": "code",
   "execution_count": 25,
   "id": "edb74e9f",
   "metadata": {},
   "outputs": [
    {
     "name": "stdout",
     "output_type": "stream",
     "text": [
      "1500\n"
     ]
    }
   ],
   "source": [
    "# Given a dictionary of products and their prices, write a program to find the product with the highest price:\n",
    "products = {\"Laptop\": 800, \"Phone\": 1500, \"Tablet\": 300}\n",
    "max=0\n",
    "\n",
    "for key,value in products.items():\n",
    "    if value>max:\n",
    "        max=value\n",
    "print(max)\n"
   ]
  },
  {
   "cell_type": "code",
   "execution_count": 36,
   "id": "08e50b23",
   "metadata": {},
   "outputs": [
    {
     "name": "stdout",
     "output_type": "stream",
     "text": [
      "{'Alice': 88, 'Bob': 92, 'Charlie': 85}\n"
     ]
    }
   ],
   "source": [
    "'''Given two lists, one containing names and the other containing marks, write a Python program to create a dictionary that maps names to marks'''\n",
    "\n",
    "# Correct code\n",
    "names = [\"Alice\", \"Bob\", \"Charlie\"]\n",
    "marks = [88, 92, 85]\n",
    "student_marks={}\n",
    "for i in range(len(names)):\n",
    "    student_marks[names[i]]=marks[i]\n",
    "\n",
    "print(student_marks)\n",
    "\n"
   ]
  },
  {
   "cell_type": "code",
   "execution_count": 39,
   "id": "79cf6456",
   "metadata": {},
   "outputs": [
    {
     "name": "stdout",
     "output_type": "stream",
     "text": [
      "{'a': 1, 'b': 2, 'c': 3, 'd': 4}\n"
     ]
    }
   ],
   "source": [
    "# Given two dictionaries, merge them into a single dictionary.\n",
    "dict1 = {\"a\": 1, \"b\": 2}\n",
    "dict2 = {\"c\": 3, \"d\": 4}\n",
    "dict1.update(dict2)\n",
    "print(dict1)"
   ]
  },
  {
   "cell_type": "code",
   "execution_count": 48,
   "id": "6149cf24",
   "metadata": {},
   "outputs": [
    {
     "name": "stdout",
     "output_type": "stream",
     "text": [
      "1:4\n",
      "2:2\n",
      "3:2\n",
      "4:2\n"
     ]
    }
   ],
   "source": [
    "'''Write a program that takes a list of numbers and returns a dictionary where the keys are the numbers and the values are their frequencies.\n",
    "Example input: [1, 2, 2, 3, 3, 3, 4] Expected output: {1: 1, 2: 2, 3: 3, 4: 1}'''\n",
    "list=[]\n",
    "def number():\n",
    "    for i in range(10):\n",
    "        user_input=input(\"enter  number\")\n",
    "        list.append(user_input)\n",
    "\n",
    "frequency={}\n",
    "def freq():\n",
    "    for word in list:\n",
    "        if word in frequency:\n",
    "            frequency[word]+=1\n",
    "\n",
    "        else:\n",
    "            frequency[word]=1\n",
    "    for word,count in frequency.items():\n",
    "         print(f\"{word}:{count}\")\n",
    "            \n",
    "number()\n",
    "freq()"
   ]
  },
  {
   "cell_type": "code",
   "execution_count": 59,
   "id": "bde7256a",
   "metadata": {},
   "outputs": [
    {
     "name": "stdout",
     "output_type": "stream",
     "text": [
      "key does not exist\n"
     ]
    }
   ],
   "source": [
    "'''1. Remove an Item from a Dictionary:\n",
    "Write a program to remove a specific key-value pair from a dictionary by prompting the user for the key. \n",
    "If the key does not exist, display a message'''\n",
    "\n",
    "subjects = {\"Math\": 80, \"Biology\": 75, \"Chemistry\": 89}\n",
    "user_del= input(\" what to delete\")\n",
    "\n",
    "if user_del in subjects:\n",
    "    del subjects[user_del]\n",
    "    print(subjects)\n",
    "else:\n",
    "    print(\"key does not exist\")\n",
    "\n"
   ]
  },
  {
   "cell_type": "code",
   "execution_count": 104,
   "id": "9e9f2c10",
   "metadata": {},
   "outputs": [
    {
     "ename": "TypeError",
     "evalue": "max() got an unexpected keyword argument 'key'",
     "output_type": "error",
     "traceback": [
      "\u001b[1;31m---------------------------------------------------------------------------\u001b[0m",
      "\u001b[1;31mTypeError\u001b[0m                                 Traceback (most recent call last)",
      "Cell \u001b[1;32mIn[104], line 25\u001b[0m\n\u001b[0;32m     14\u001b[0m maximum\u001b[38;5;241m=\u001b[39m\u001b[38;5;241m0\u001b[39m\n\u001b[0;32m     16\u001b[0m \u001b[38;5;66;03m# def max():\u001b[39;00m\n\u001b[0;32m     17\u001b[0m \u001b[38;5;66;03m#     global maximum\u001b[39;00m\n\u001b[0;32m     18\u001b[0m \u001b[38;5;66;03m#     for a,value in students_marks.items():\u001b[39;00m\n\u001b[1;32m   (...)\u001b[0m\n\u001b[0;32m     22\u001b[0m \u001b[38;5;66;03m#     print(maximum)\u001b[39;00m\n\u001b[0;32m     23\u001b[0m \u001b[38;5;66;03m# max()\u001b[39;00m\n\u001b[1;32m---> 25\u001b[0m highest_student \u001b[38;5;241m=\u001b[39m \u001b[38;5;28;43mmax\u001b[39;49m\u001b[43m(\u001b[49m\u001b[43mstudents_marks\u001b[49m\u001b[43m,\u001b[49m\u001b[43m \u001b[49m\u001b[43mkey\u001b[49m\u001b[38;5;241;43m=\u001b[39;49m\u001b[43mstudents_marks\u001b[49m\u001b[38;5;241;43m.\u001b[39;49m\u001b[43mget\u001b[49m\u001b[43m)\u001b[49m\n\u001b[0;32m     26\u001b[0m \u001b[38;5;66;03m# Finding the student with the lowest marks\u001b[39;00m\n\u001b[0;32m     27\u001b[0m lowest_student \u001b[38;5;241m=\u001b[39m \u001b[38;5;28mmin\u001b[39m(students_marks, key\u001b[38;5;241m=\u001b[39mstudents_marks\u001b[38;5;241m.\u001b[39mget)\n",
      "\u001b[1;31mTypeError\u001b[0m: max() got an unexpected keyword argument 'key'"
     ]
    }
   ],
   "source": [
    "\n",
    "students_marks = {\n",
    "    \"Charlie\": 78,\n",
    "    \"Fiona\": 82,\n",
    "    \"Alice\": 85,\n",
    "    \"Hannah\": 90,\n",
    "    \"George\": 76,\n",
    "    \"Ethan\": 95,\n",
    "    \"Julia\": 89,\n",
    "    \"Bob\": 92,\n",
    "    \"Ivan\": 84,\n",
    "    \"Diana\": 88\n",
    "}\n",
    "\n",
    "# maximum=0\n",
    "\n",
    "# def max():\n",
    "#     global maximum\n",
    "#     for a,value in students_marks.items():\n",
    "#         if maximum<value:\n",
    "            \n",
    "#             maximum=value\n",
    "#     print(maximum)\n",
    "# max()\n",
    "\n",
    "highest_student = max(students_marks, key=students_marks.get)\n",
    "# Finding the student with the lowest marks\n",
    "lowest_student = min(students_marks, key=students_marks.get)\n",
    "\n",
    "# Printing the results\n",
    "print(f\"Student with the highest marks: {highest_student} ({students_marks[highest_student]})\")\n",
    "print(f\"Student with the lowest marks: {lowest_student} ({students_marks[lowest_student]})\")\n",
    "\n"
   ]
  },
  {
   "cell_type": "code",
   "execution_count": 105,
   "id": "c0555a00",
   "metadata": {},
   "outputs": [
    {
     "ename": "TypeError",
     "evalue": "max() takes 0 positional arguments but 1 was given",
     "output_type": "error",
     "traceback": [
      "\u001b[1;31m---------------------------------------------------------------------------\u001b[0m",
      "\u001b[1;31mTypeError\u001b[0m                                 Traceback (most recent call last)",
      "Cell \u001b[1;32mIn[105], line 19\u001b[0m\n\u001b[0;32m     16\u001b[0m names, marks \u001b[38;5;241m=\u001b[39m \u001b[38;5;28mzip\u001b[39m(\u001b[38;5;241m*\u001b[39mstudents_marks\u001b[38;5;241m.\u001b[39mitems())\n\u001b[0;32m     18\u001b[0m \u001b[38;5;66;03m# Finding the index of the highest and lowest marks\u001b[39;00m\n\u001b[1;32m---> 19\u001b[0m max_index \u001b[38;5;241m=\u001b[39m marks\u001b[38;5;241m.\u001b[39mindex(\u001b[38;5;28;43mmax\u001b[39;49m\u001b[43m(\u001b[49m\u001b[43mmarks\u001b[49m\u001b[43m)\u001b[49m)\n\u001b[0;32m     20\u001b[0m min_index \u001b[38;5;241m=\u001b[39m marks\u001b[38;5;241m.\u001b[39mindex(\u001b[38;5;28mmin\u001b[39m(marks))\n\u001b[0;32m     22\u001b[0m \u001b[38;5;66;03m# Getting the corresponding students\u001b[39;00m\n",
      "\u001b[1;31mTypeError\u001b[0m: max() takes 0 positional arguments but 1 was given"
     ]
    }
   ],
   "source": [
    "# Given dictionary with student names and marks\n",
    "students_marks = {\n",
    "    \"Charlie\": 78,\n",
    "    \"Fiona\": 82,\n",
    "    \"Alice\": 85,\n",
    "    \"Hannah\": 90,\n",
    "    \"George\": 76,\n",
    "    \"Ethan\": 95,\n",
    "    \"Julia\": 89,\n",
    "    \"Bob\": 92,\n",
    "    \"Ivan\": 84,\n",
    "    \"Diana\": 88\n",
    "}\n",
    "\n",
    "# Using zip to separate names and marks and finding the max and min\n",
    "names, marks = zip(*students_marks.items())\n",
    "\n",
    "# Finding the index of the highest and lowest marks\n",
    "max_index = marks.index(max(marks))\n",
    "min_index = marks.index(min(marks))\n",
    "\n",
    "# Getting the corresponding students\n",
    "highest_student = names[max_index]\n",
    "lowest_student = names[min_index]\n",
    "\n",
    "# Printing the results\n",
    "print(f\"Student with the highest marks: {highest_student} ({students_marks[highest_student]})\")\n",
    "print(f\"Student with the lowest marks: {lowest_student} ({students_marks[lowest_student]})\")\n"
   ]
  },
  {
   "cell_type": "code",
   "execution_count": null,
   "id": "45978976",
   "metadata": {},
   "outputs": [],
   "source": []
  }
 ],
 "metadata": {
  "kernelspec": {
   "display_name": "Python 3 (ipykernel)",
   "language": "python",
   "name": "python3"
  },
  "language_info": {
   "codemirror_mode": {
    "name": "ipython",
    "version": 3
   },
   "file_extension": ".py",
   "mimetype": "text/x-python",
   "name": "python",
   "nbconvert_exporter": "python",
   "pygments_lexer": "ipython3",
   "version": "3.11.7"
  }
 },
 "nbformat": 4,
 "nbformat_minor": 5
}
