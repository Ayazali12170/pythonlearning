{
 "cells": [
  {
   "cell_type": "code",
   "execution_count": 12,
   "id": "da977de2",
   "metadata": {},
   "outputs": [
    {
     "name": "stdout",
     "output_type": "stream",
     "text": [
      "no_of_characters are 0\n"
     ]
    },
    {
     "ename": "FileNotFoundError",
     "evalue": "",
     "output_type": "error",
     "traceback": [
      "\u001b[1;31m---------------------------------------------------------------------------\u001b[0m",
      "\u001b[1;31mFileNotFoundError\u001b[0m                         Traceback (most recent call last)",
      "Cell \u001b[1;32mIn[12], line 38\u001b[0m\n\u001b[0;32m     35\u001b[0m     \u001b[38;5;28;01melse\u001b[39;00m:\n\u001b[0;32m     36\u001b[0m         \u001b[38;5;28;01mraise\u001b[39;00m \u001b[38;5;167;01mFileNotFoundError\u001b[39;00m\n\u001b[1;32m---> 38\u001b[0m \u001b[43manalyze_file\u001b[49m\u001b[43m(\u001b[49m\u001b[38;5;124;43m\"\u001b[39;49m\u001b[38;5;124;43mbook of worm\u001b[39;49m\u001b[38;5;124;43m\"\u001b[39;49m\u001b[43m)\u001b[49m\n",
      "Cell \u001b[1;32mIn[12], line 36\u001b[0m, in \u001b[0;36manalyze_file\u001b[1;34m(file_name)\u001b[0m\n\u001b[0;32m     33\u001b[0m         \u001b[38;5;28mprint\u001b[39m(\u001b[38;5;124mf\u001b[39m\u001b[38;5;124m\"\u001b[39m\u001b[38;5;132;01m{\u001b[39;00mword\u001b[38;5;132;01m}\u001b[39;00m\u001b[38;5;124m:\u001b[39m\u001b[38;5;132;01m{\u001b[39;00mcount\u001b[38;5;132;01m}\u001b[39;00m\u001b[38;5;124m\"\u001b[39m)\n\u001b[0;32m     35\u001b[0m \u001b[38;5;28;01melse\u001b[39;00m:\n\u001b[1;32m---> 36\u001b[0m     \u001b[38;5;28;01mraise\u001b[39;00m \u001b[38;5;167;01mFileNotFoundError\u001b[39;00m\n",
      "\u001b[1;31mFileNotFoundError\u001b[0m: "
     ]
    }
   ],
   "source": [
    "# Write a Python function named analyze_file that takes the name of a \n",
    "# file as input and returns a dictionary containing the counts of characters,\n",
    "# words, and lines in that file.\n",
    "# 2. Write another Python function named search_word that takes the name\n",
    "# of a file and a word as input and returns the count of occurrences of that\n",
    "# word in the file.\n",
    "# 3. Ensure that your functions handle file not found errors gracefully and\n",
    "# return appropriate values in such cases\n",
    "\n",
    "# it will count the  frequency of the alphabets\n",
    "word_frequency={}\n",
    "\n",
    "def analyze_file(file_name):\n",
    "    \n",
    "    file_name=input(\"enter file_name\")\n",
    "    file_name=file_name.lower()\n",
    "    \n",
    "    # convert string into list\n",
    "    file_name=list(file_name)\n",
    "    # it will shows the characters in file name\n",
    "    print(f\"no_of_characters are {len(file_name)}\")\n",
    "\n",
    "    if len(file_name)>0:\n",
    "        for word in file_name:\n",
    "        # count frequency of each alphabet in file name\n",
    "            if word in word_frequency:\n",
    "              word_frequency[word] +=1\n",
    "\n",
    "            else:\n",
    "                word_frequency[word]=1\n",
    "\n",
    "        for word ,count in word_frequency.items():\n",
    "            print(f\"{word}:{count}\")\n",
    "    \n",
    "    else:\n",
    "        raise FileNotFoundError\n",
    "\n",
    "analyze_file(\"book name\")\n",
    "\n"
   ]
  },
  {
   "cell_type": "code",
   "execution_count": 8,
   "id": "a01b152b",
   "metadata": {},
   "outputs": [
    {
     "name": "stdout",
     "output_type": "stream",
     "text": [
      "what:2\n",
      "is:1\n"
     ]
    }
   ],
   "source": [
    "word_frequency={}\n",
    "\n",
    "def search_word(paragraph):\n",
    "    paragraph=input(\"enter paragraph\")\n",
    "    paragraph=paragraph.lower()\n",
    "    words=paragraph.split()\n",
    "    \n",
    "    for word in words:\n",
    "        if word in word_frequency:\n",
    "            word_frequency[word] +=1\n",
    "\n",
    "        else:\n",
    "            word_frequency[word]=1\n",
    "\n",
    "    for word ,count in word_frequency.items():\n",
    "        print(f\"{word}:{count}\")\n",
    "\n",
    "search_word(\"book of worm\")"
   ]
  },
  {
   "cell_type": "code",
   "execution_count": null,
   "id": "6c424091",
   "metadata": {},
   "outputs": [],
   "source": [
    "\n",
    "\n",
    "class Book():\n",
    "    is_borrowed=True\n",
    "    def __init__(self,title:str,author:str,isbn:int,is_borrowed:bool):\n",
    "        self.title=title\n",
    "        self.author=author\n",
    "        self.isbn=isbn\n",
    "        is_borrowed=is_borrowed\n",
    "        self.book_list={}\n",
    "    \n",
    "    def borrow(self,title):\n",
    "        if title in self.title and self.title[title]>0:\n",
    "            self.book_list[title] -=1\n",
    "            print(f\"{title} has been borrowed successfully\")\n",
    "    \n",
    "    def return_book(self,title):\n",
    "        self.book_list[title] +=1\n",
    "        print(f\"{title} has been returned successfully\")\n",
    "\n",
    "\n",
    "class DigitalBook(Book):\n",
    "    def __init__(self, title, author, isbn, is_borrowed,file_format):\n",
    "        super().__init__(title, author, isbn, is_borrowed)\n",
    "        self.file_format=file_format\n",
    "\n",
    "\n",
    "class AudioBook(Book):\n",
    "    def __init__(self, title, author, isbn, is_borrowed,duration:float):\n",
    "        super().__init__(title, author, isbn, is_borrowed)\n",
    "        self.duration=duration\n",
    "\n",
    "\n",
    "class User(Book):\n",
    "    def __init__(self,user_id,name):\n",
    "        self.user_id=user_id\n",
    "        self.name=name\n",
    "        self.borrowed_books=[]\n",
    "\n",
    "    def borrow_book(self,title):\n",
    "        self.title=title\n",
    "        if self.book_list[title]>0:\n",
    "            self.borrowed_books.append[title]\n",
    "            print(f\"you can borrowed this book \")\n",
    "\n",
    "    def return_book(self,title):\n",
    "        if title in self.borrowed_books[title]:\n",
    "            del self.borrowed_books[title]\n",
    "            print(f\"{title} has been returned  successfully\")\n",
    "\n",
    "\n",
    "class Library():\n",
    "    def __init__(self,name,books,user):\n",
    "        self.name=name\n",
    "        self.books=books\n",
    "        self.user=user\n",
    "    \n",
    "    def add_book(self,title):\n",
    "        \n",
    "    \n"
   ]
  }
 ],
 "metadata": {
  "kernelspec": {
   "display_name": "base",
   "language": "python",
   "name": "python3"
  },
  "language_info": {
   "codemirror_mode": {
    "name": "ipython",
    "version": 3
   },
   "file_extension": ".py",
   "mimetype": "text/x-python",
   "name": "python",
   "nbconvert_exporter": "python",
   "pygments_lexer": "ipython3",
   "version": "3.11.7"
  }
 },
 "nbformat": 4,
 "nbformat_minor": 5
}
