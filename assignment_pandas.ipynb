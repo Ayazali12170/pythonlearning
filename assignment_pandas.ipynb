{
  "nbformat": 4,
  "nbformat_minor": 0,
  "metadata": {
    "colab": {
      "provenance": []
    },
    "kernelspec": {
      "name": "python3",
      "display_name": "Python 3"
    },
    "language_info": {
      "name": "python"
    }
  },
  "cells": [
    {
      "cell_type": "code",
      "execution_count": null,
      "metadata": {
        "id": "jcENp8DCh8fD"
      },
      "outputs": [],
      "source": []
    },
    {
      "cell_type": "code",
      "source": [
        "import pandas as pd\n",
        "import numpy as np"
      ],
      "metadata": {
        "id": "x9rsVZKqV_YE"
      },
      "execution_count": null,
      "outputs": []
    },
    {
      "cell_type": "code",
      "source": [
        "#Write a Pandas program to create a dataframe from a dictionary and display it.\n",
        "#Sample data: {'X':[78,85,96,80,86], 'Y':[84,94,89,83,86],'Z':[86,97,96,72,83]}\n",
        "\n",
        "data = {'X': [78, 85, 96, 80, 86],\n",
        "        'Y': [84, 94, 89, 83, 86],\n",
        "        'Z': [86, 97, 96, 72, 83]}\n",
        "\n",
        "\n",
        "df = pd.DataFrame(data)\n",
        "\n",
        "print(df)\n"
      ],
      "metadata": {
        "id": "5oJNaajvWEdT",
        "outputId": "7d118889-8d83-4594-ce02-782e65ee31cc",
        "colab": {
          "base_uri": "https://localhost:8080/"
        }
      },
      "execution_count": null,
      "outputs": [
        {
          "output_type": "stream",
          "name": "stdout",
          "text": [
            "    X   Y   Z\n",
            "0  78  84  86\n",
            "1  85  94  97\n",
            "2  96  89  96\n",
            "3  80  83  72\n",
            "4  86  86  83\n"
          ]
        }
      ]
    },
    {
      "cell_type": "code",
      "source": [
        "\"\"\"2. Write a Pandas program to get the first 3 rows of a given DataFrame.\n",
        "Sample Python dictionary data and list labels:\n",
        "\n",
        "exam_data = {'name': ['Anastasia', 'Dima', 'Katherine', 'James', 'Emily', 'Michael', 'Matthew', 'Laura', 'Kevin', 'Jonas'],\n",
        "'score': [12.5, 9, 16.5, np.nan, 9, 20, 14.5, np.nan, 8, 19],\n",
        "'attempts': [1, 3, 2, 3, 2, 3, 1, 1, 2, 1],\n",
        "'qualify': ['yes', 'no', 'yes', 'no', 'no', 'yes', 'yes', 'no', 'no', 'yes']}\n",
        "\n",
        "\"\"\""
      ],
      "metadata": {
        "colab": {
          "base_uri": "https://localhost:8080/",
          "height": 70
        },
        "id": "eRIJi_a8W0mE",
        "outputId": "69ccab66-7392-487d-bff2-aa9b04d84ddc"
      },
      "execution_count": null,
      "outputs": [
        {
          "output_type": "execute_result",
          "data": {
            "text/plain": [
              "\"2. Write a Pandas program to get the first 3 rows of a given DataFrame.\\nSample Python dictionary data and list labels:\\n\\nexam_data = {'name': ['Anastasia', 'Dima', 'Katherine', 'James', 'Emily', 'Michael', 'Matthew', 'Laura', 'Kevin', 'Jonas'],\\n'score': [12.5, 9, 16.5, np.nan, 9, 20, 14.5, np.nan, 8, 19],\\n'attempts': [1, 3, 2, 3, 2, 3, 1, 1, 2, 1],\\n'qualify': ['yes', 'no', 'yes', 'no', 'no', 'yes', 'yes', 'no', 'no', 'yes']}\\n\\n\""
            ],
            "application/vnd.google.colaboratory.intrinsic+json": {
              "type": "string"
            }
          },
          "metadata": {},
          "execution_count": 4
        }
      ]
    },
    {
      "cell_type": "code",
      "source": [
        "exam_data = {'name': ['Anastasia', 'Dima', 'Katherine', 'James', 'Emily', 'Michael', 'Matthew', 'Laura', 'Kevin', 'Jonas'],\n",
        "'score': [12.5, 9, 16.5, np.nan, 9, 20, 14.5, np.nan, 8, 19],\n",
        "'attempts': [1, 3, 2, 3, 2, 3, 1, 1, 2, 1],\n",
        "'qualify': ['yes', 'no', 'yes', 'no', 'no', 'yes', 'yes', 'no', 'no', 'yes']}\n",
        "\n",
        "df = pd.DataFrame(exam_data)\n",
        "print(df[0:3])"
      ],
      "metadata": {
        "id": "iOK7sp7xW7hz",
        "outputId": "ddf6a281-799b-4d93-9c5a-44501a7c67f8",
        "colab": {
          "base_uri": "https://localhost:8080/"
        }
      },
      "execution_count": null,
      "outputs": [
        {
          "output_type": "stream",
          "name": "stdout",
          "text": [
            "        name  score  attempts qualify\n",
            "0  Anastasia   12.5         1     yes\n",
            "1       Dima    9.0         3      no\n",
            "2  Katherine   16.5         2     yes\n"
          ]
        }
      ]
    },
    {
      "cell_type": "code",
      "source": [
        "'''3. Write a Pandas program to select the 'name' and 'score' columns from the following DataFrame.\n",
        "Sample Python dictionary data and list labels:\n",
        "\n",
        "exam_data = {'name': ['Anastasia', 'Dima', 'Katherine', 'James', 'Emily', 'Michael', 'Matthew', 'Laura', 'Kevin', 'Jonas'],\n",
        "'score': [12.5, 9, 16.5, np.nan, 9, 20, 14.5, np.nan, 8, 19],\n",
        "'attempts': [1, 3, 2, 3, 2, 3, 1, 1, 2, 1],\n",
        "'qualify': ['yes', 'no', 'yes', 'no', 'no', 'yes', 'yes', 'no', 'no', 'yes']}'''"
      ],
      "metadata": {
        "id": "XEcwgggKXrnj",
        "outputId": "e86f8287-ca6e-471d-c7d2-67345b661f2a",
        "colab": {
          "base_uri": "https://localhost:8080/",
          "height": 70
        }
      },
      "execution_count": null,
      "outputs": [
        {
          "output_type": "execute_result",
          "data": {
            "text/plain": [
              "\"3. Write a Pandas program to select the 'name' and 'score' columns from the following DataFrame.\\nSample Python dictionary data and list labels:\\n\\nexam_data = {'name': ['Anastasia', 'Dima', 'Katherine', 'James', 'Emily', 'Michael', 'Matthew', 'Laura', 'Kevin', 'Jonas'],\\n'score': [12.5, 9, 16.5, np.nan, 9, 20, 14.5, np.nan, 8, 19],\\n'attempts': [1, 3, 2, 3, 2, 3, 1, 1, 2, 1],\\n'qualify': ['yes', 'no', 'yes', 'no', 'no', 'yes', 'yes', 'no', 'no', 'yes']}\""
            ],
            "application/vnd.google.colaboratory.intrinsic+json": {
              "type": "string"
            }
          },
          "metadata": {},
          "execution_count": 9
        }
      ]
    },
    {
      "cell_type": "code",
      "source": [
        "exam_data = {'name': ['Anastasia', 'Dima', 'Katherine', 'James', 'Emily', 'Michael', 'Matthew', 'Laura', 'Kevin', 'Jonas'],\n",
        "'score': [12.5, 9, 16.5, np.nan, 9, 20, 14.5, np.nan, 8, 19],\n",
        "'attempts': [1, 3, 2, 3, 2, 3, 1, 1, 2, 1],\n",
        "'qualify': ['yes', 'no', 'yes', 'no', 'no', 'yes', 'yes', 'no', 'no', 'yes']}\n",
        "\n",
        "df = pd.DataFrame(exam_data)\n",
        "\n",
        "selected_columns = df[['name','score']]\n",
        "\n",
        "print(selected_columns)\n",
        "\n"
      ],
      "metadata": {
        "id": "Lm8aA1OYX9_T",
        "outputId": "70419fae-f595-49a7-b68f-6ca950470d81",
        "colab": {
          "base_uri": "https://localhost:8080/"
        }
      },
      "execution_count": null,
      "outputs": [
        {
          "output_type": "stream",
          "name": "stdout",
          "text": [
            "        name  score\n",
            "0  Anastasia   12.5\n",
            "1       Dima    9.0\n",
            "2  Katherine   16.5\n",
            "3      James    NaN\n",
            "4      Emily    9.0\n",
            "5    Michael   20.0\n",
            "6    Matthew   14.5\n",
            "7      Laura    NaN\n",
            "8      Kevin    8.0\n",
            "9      Jonas   19.0\n"
          ]
        }
      ]
    },
    {
      "cell_type": "code",
      "source": [
        "'''Write a  Pandas program to select the rows where the number of attempts in the examination is greater than 2.\n",
        "\n",
        "Sample Python dictionary data and list labels:\n",
        "\n",
        "exam_data = {'name': ['Anastasia', 'Dima', 'Katherine', 'James', 'Emily', 'Michael', 'Matthew', 'Laura', 'Kevin', 'Jonas'],\n",
        "'score': [12.5, 9, 16.5, np.nan, 9, 20, 14.5, np.nan, 8, 19],\n",
        "'attempts': [1, 3, 2, 3, 2, 3, 1, 1, 2, 1],\n",
        "'qualify': ['yes', 'no', 'yes', 'no', 'no', 'yes', 'yes', 'no', 'no', 'yes']}'''"
      ],
      "metadata": {
        "id": "uABG9CNPYmL0",
        "outputId": "e412d1b0-f708-4055-bccd-c6274c9f1aea",
        "colab": {
          "base_uri": "https://localhost:8080/",
          "height": 70
        }
      },
      "execution_count": null,
      "outputs": [
        {
          "output_type": "execute_result",
          "data": {
            "text/plain": [
              "\"Write a  Pandas program to select the rows where the number of attempts in the examination is greater than 2.\\n\\nSample Python dictionary data and list labels:\\n\\nexam_data = {'name': ['Anastasia', 'Dima', 'Katherine', 'James', 'Emily', 'Michael', 'Matthew', 'Laura', 'Kevin', 'Jonas'],\\n'score': [12.5, 9, 16.5, np.nan, 9, 20, 14.5, np.nan, 8, 19],\\n'attempts': [1, 3, 2, 3, 2, 3, 1, 1, 2, 1],\\n'qualify': ['yes', 'no', 'yes', 'no', 'no', 'yes', 'yes', 'no', 'no', 'yes']}\""
            ],
            "application/vnd.google.colaboratory.intrinsic+json": {
              "type": "string"
            }
          },
          "metadata": {},
          "execution_count": 13
        }
      ]
    },
    {
      "cell_type": "code",
      "source": [
        "exam_data = {'name': ['Anastasia', 'Dima', 'Katherine', 'James', 'Emily', 'Michael', 'Matthew', 'Laura', 'Kevin', 'Jonas'],\n",
        "'score': [12.5, 9, 16.5, np.nan, 9, 20, 14.5, np.nan, 8, 19],\n",
        "'attempts': [1, 3, 2, 3, 2, 3, 1, 1, 2, 1],\n",
        "'qualify': ['yes', 'no', 'yes', 'no', 'no', 'yes', 'yes', 'no', 'no', 'yes']}\n",
        "\n",
        "df = pd.DataFrame(exam_data)\n",
        "\n",
        "filtered_rows = df[df['attempts'] > 2]\n",
        "\n",
        "print(filtered_rows)"
      ],
      "metadata": {
        "id": "Bw7Z6koGY_Sk",
        "outputId": "dd1ea781-59ff-4ec4-b4a5-905d04e65952",
        "colab": {
          "base_uri": "https://localhost:8080/"
        }
      },
      "execution_count": null,
      "outputs": [
        {
          "output_type": "stream",
          "name": "stdout",
          "text": [
            "      name  score  attempts qualify\n",
            "1     Dima    9.0         3      no\n",
            "3    James    NaN         3      no\n",
            "5  Michael   20.0         3     yes\n"
          ]
        }
      ]
    },
    {
      "cell_type": "code",
      "source": [
        "'''5. Write a Pandas program to count the number of rows and columns of a DataFrame.\n",
        "Sample  Python dictionary data and list labels:\n",
        "\n",
        "exam_data = {'name': ['Anastasia', 'Dima', 'Katherine', 'James', 'Emily', 'Michael', 'Matthew', 'Laura', 'Kevin', 'Jonas'],\n",
        "'score': [12.5, 9, 16.5, np.nan, 9, 20, 14.5, np.nan, 8, 19],\n",
        "'attempts': [1, 3, 2, 3, 2, 3, 1, 1, 2, 1],\n",
        "'qualify': ['yes', 'no', 'yes', 'no', 'no', 'yes', 'yes', 'no', 'no', 'yes']}'''"
      ],
      "metadata": {
        "id": "RPHLVKZPZfWE",
        "outputId": "cbc6a6e9-a96d-43e4-ff03-abb5af57ed90",
        "colab": {
          "base_uri": "https://localhost:8080/",
          "height": 70
        }
      },
      "execution_count": null,
      "outputs": [
        {
          "output_type": "execute_result",
          "data": {
            "text/plain": [
              "\"5. Write a Pandas program to count the number of rows and columns of a DataFrame.\\nSample  Python dictionary data and list labels:\\n\\nexam_data = {'name': ['Anastasia', 'Dima', 'Katherine', 'James', 'Emily', 'Michael', 'Matthew', 'Laura', 'Kevin', 'Jonas'],\\n'score': [12.5, 9, 16.5, np.nan, 9, 20, 14.5, np.nan, 8, 19],\\n'attempts': [1, 3, 2, 3, 2, 3, 1, 1, 2, 1],\\n'qualify': ['yes', 'no', 'yes', 'no', 'no', 'yes', 'yes', 'no', 'no', 'yes']}\""
            ],
            "application/vnd.google.colaboratory.intrinsic+json": {
              "type": "string"
            }
          },
          "metadata": {},
          "execution_count": 15
        }
      ]
    },
    {
      "cell_type": "code",
      "source": [
        "df = pd.DataFrame(exam_data)\n",
        "\n",
        "rows, columns = df.shape\n",
        "\n",
        "print(f'Number of rows: {rows}')\n",
        "print(f'Number of columns: {columns}')"
      ],
      "metadata": {
        "id": "cCZtrs8tZsWT",
        "outputId": "a23e400e-ed34-43ac-ffe4-ce9760b064b5",
        "colab": {
          "base_uri": "https://localhost:8080/"
        }
      },
      "execution_count": null,
      "outputs": [
        {
          "output_type": "stream",
          "name": "stdout",
          "text": [
            "Number of rows: 10\n",
            "Number of columns: 4\n"
          ]
        }
      ]
    },
    {
      "cell_type": "code",
      "source": [],
      "metadata": {
        "id": "Xh2JWm65Z6lE"
      },
      "execution_count": null,
      "outputs": []
    }
  ]
}