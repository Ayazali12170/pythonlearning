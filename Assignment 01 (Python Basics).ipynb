{
 "cells": [
  {
   "cell_type": "markdown",
   "metadata": {},
   "source": [
    "# Part -1 Python Basics (Variables)"
   ]
  },
  {
   "cell_type": "markdown",
   "metadata": {},
   "source": [
    "1. Print Your Name with your Father name and Date of birth using suitable escape sequence charactor"
   ]
  },
  {
   "cell_type": "code",
   "execution_count": 2,
   "metadata": {},
   "outputs": [
    {
     "name": "stdout",
     "output_type": "stream",
     "text": [
      "\"Ayaz Ali\"\n",
      "\"Ali Muhammad\"\n",
      "\"11-jANUARY-1994\"\n"
     ]
    }
   ],
   "source": [
    "print('''\"Ayaz Ali\"\\n\"Ali Muhammad\"\\n\"11-jANUARY-1994\"''')"
   ]
  },
  {
   "cell_type": "markdown",
   "metadata": {},
   "source": [
    "2. Write your small bio using variables and print it using print function"
   ]
  },
  {
   "cell_type": "code",
   "execution_count": 3,
   "metadata": {},
   "outputs": [
    {
     "name": "stdout",
     "output_type": "stream",
     "text": [
      "I'm Ayaz Ali, a Mechanical Engineer with a growing passion for software development and data science. Currently diving into TypeScript and Python to expand my skill set and explore their applications in engineering and beyond.Looking ahead, my goal is to specialize in Generative AI and Data Engineering. I'm eager to harness the power of data-driven insights to drive impactful solutions. I am committed to continuous learning and growth in these fields, aiming to contribute to cutting-edge projects that merge advanced technology.\n"
     ]
    }
   ],
   "source": [
    "Bio=\"I'm Ayaz Ali, a Mechanical Engineer with a growing passion for software development and data science. Currently diving into TypeScript and Python to expand my skill set and explore their applications in engineering and beyond.Looking ahead, my goal is to specialize in Generative AI and Data Engineering. I'm eager to harness the power of data-driven insights to drive impactful solutions. I am committed to continuous learning and growth in these fields, aiming to contribute to cutting-edge projects that merge advanced technology.\"\n",
    "print(Bio)"
   ]
  },
  {
   "cell_type": "markdown",
   "metadata": {},
   "source": [
    "3. Write a program in which use all the operators we can use in Python"
   ]
  },
  {
   "cell_type": "code",
   "execution_count": 4,
   "metadata": {},
   "outputs": [
    {
     "name": "stdout",
     "output_type": "stream",
     "text": [
      "11\n",
      "14\n",
      "932\n",
      "59.0\n",
      "87555264329034976\n",
      "1\n"
     ]
    }
   ],
   "source": [
    "print(5 + 6)\n",
    "print(23-9)\n",
    "print(233*4)\n",
    "print(236/4)\n",
    "print(2446**5)\n",
    "print(23455%3)\n",
    "\n",
    "\n"
   ]
  },
  {
   "cell_type": "markdown",
   "metadata": {},
   "source": [
    "4. Completes the following steps of small task:\n",
    "    - Mention Marks of English , Islamiat and Maths out of 100 in 3 different variables\n",
    "    - Mention Variable of Total Marks and assign 300 to it\n",
    "    - Calculate Percentage"
   ]
  },
  {
   "cell_type": "code",
   "execution_count": 10,
   "metadata": {},
   "outputs": [
    {
     "name": "stdout",
     "output_type": "stream",
     "text": [
      "Your percentage is 84.33%\n"
     ]
    }
   ],
   "source": [
    "English=90\n",
    "Islamiat=88\n",
    "Maths=75\n",
    "marks_gain=English+ Islamiat+Maths\n",
    "Totalmarks=300\n",
    "Percentage= marks_gain*100/Totalmarks\n",
    "Percentage=(round(Percentage,2))\n",
    "print(f\"Your percentage is {Percentage}%\")"
   ]
  },
  {
   "cell_type": "markdown",
   "metadata": {},
   "source": [
    "# Part -2 Python Basics (Conditional Statements)"
   ]
  },
  {
   "cell_type": "markdown",
   "metadata": {},
   "source": [
    "1) A company decided to give bonus of 5% to employee if his/her year of service is more than 5 years.\n",
    "Ask user for their salary and year of service and print the net bonus amount."
   ]
  },
  {
   "cell_type": "code",
   "execution_count": 12,
   "metadata": {},
   "outputs": [
    {
     "name": "stdout",
     "output_type": "stream",
     "text": [
      "your salary for this month is 40000\n"
     ]
    }
   ],
   "source": [
    "duration=int(input(\"How many years have you worked in this company\"))\n",
    "salary=int(input(\"What is your salary\"))\n",
    "if duration>5:\n",
    "    salary= salary*1.05\n",
    "    print(f\"your salary for this month is {salary}\")\n",
    "else:\n",
    "     print(f\"your salary for this month is {salary}\")"
   ]
  },
  {
   "cell_type": "markdown",
   "metadata": {},
   "source": [
    "\n",
    "2) Write a program to check whether a person is eligible for voting or not. (accept age from user) if age is greater than 17 eligible otherwise not eligible"
   ]
  },
  {
   "cell_type": "code",
   "execution_count": 14,
   "metadata": {},
   "outputs": [
    {
     "name": "stdout",
     "output_type": "stream",
     "text": [
      "you are not eligible for voting\n"
     ]
    }
   ],
   "source": [
    "age=int(input(\"what is your age\"))\n",
    "if age>17:\n",
    "    print(\"You are eligible for voting, Go and cast your vote\")\n",
    "else:\n",
    "    print(\"you are not eligible for voting\")"
   ]
  },
  {
   "cell_type": "markdown",
   "metadata": {},
   "source": [
    "\n",
    "3) Write a program to check whether a number entered by user is even or odd."
   ]
  },
  {
   "cell_type": "code",
   "execution_count": 16,
   "metadata": {},
   "outputs": [
    {
     "name": "stdout",
     "output_type": "stream",
     "text": [
      "YOU HAVE ENTERED A EVEN NUMBER\n"
     ]
    }
   ],
   "source": [
    "number=int(input(\"please entered a number\"))\n",
    "if number%2==0:\n",
    "    print(\"YOU HAVE ENTERED A EVEN NUMBER\")\n",
    "else:\n",
    "    print(\"YOU HAVE ENTERED A ODD NUMBER\")"
   ]
  },
  {
   "cell_type": "markdown",
   "metadata": {},
   "source": [
    "4) Write a program to check whether a number is divisible by 7 or not.\n",
    "Show Answer"
   ]
  },
  {
   "cell_type": "code",
   "execution_count": 19,
   "metadata": {},
   "outputs": [
    {
     "name": "stdout",
     "output_type": "stream",
     "text": [
      "2.14\n",
      "the number you have entered is not divible by 7\n"
     ]
    }
   ],
   "source": [
    "number=int(input(\"please entered a number\"))\n",
    "print(round(number/7,2))\n",
    "if number%7==0:\n",
    "    print(\"the number you have entered is divible by 7\")\n",
    "else:\n",
    "    print(\"the number you have entered is not divible by 7\")"
   ]
  },
  {
   "cell_type": "markdown",
   "metadata": {},
   "source": [
    "5) Write a program to display \n",
    "\"Hello\" if a number entered by user is a multiple of five , otherwise print \"Bye\"."
   ]
  },
  {
   "cell_type": "code",
   "execution_count": 21,
   "metadata": {},
   "outputs": [
    {
     "name": "stdout",
     "output_type": "stream",
     "text": [
      "HELLO\n"
     ]
    }
   ],
   "source": [
    "number=int(input(\"please entered a number\"))\n",
    "if number%5==0:\n",
    "    print(\"HELLO\")\n",
    "else:\n",
    "    print(\"BYE\")"
   ]
  },
  {
   "cell_type": "markdown",
   "metadata": {},
   "source": [
    "7) Write a program to display the last digit of a number.\n"
   ]
  },
  {
   "cell_type": "code",
   "execution_count": 2,
   "metadata": {},
   "outputs": [
    {
     "name": "stdout",
     "output_type": "stream",
     "text": [
      "the last digit is 2\n"
     ]
    }
   ],
   "source": [
    "number=int(input(\"please entered a number\"))\n",
    "last_digit=number%10\n",
    "print(f\"the last digit is {last_digit}\")"
   ]
  },
  {
   "cell_type": "markdown",
   "metadata": {},
   "source": [
    "9) Take values of length and breadth of a rectangle from user and print if it is square or rectangle."
   ]
  },
  {
   "cell_type": "code",
   "execution_count": 26,
   "metadata": {},
   "outputs": [
    {
     "name": "stdout",
     "output_type": "stream",
     "text": [
      "its a rectangle\n"
     ]
    }
   ],
   "source": [
    "length=int(input(\"what is the length\"))\n",
    "breadth=int(input(\"what is the breadth\"))\n",
    "if length==breadth:\n",
    "    print(\"its a square\")\n",
    "else:\n",
    "    print(\"its a rectangle\")"
   ]
  },
  {
   "cell_type": "markdown",
   "metadata": {},
   "source": [
    "10) Take two int values from user and print greatest among them."
   ]
  },
  {
   "cell_type": "code",
   "execution_count": 28,
   "metadata": {},
   "outputs": [
    {
     "name": "stdout",
     "output_type": "stream",
     "text": [
      "109 is the greater number\n"
     ]
    }
   ],
   "source": [
    "int1=int(input(\"type an integer\"))\n",
    "int2=int(input(\"type another integer\"))\n",
    "if int1>int2:\n",
    "    print(f\"{int1} is the greater number\")\n",
    "else:\n",
    "    print(f\"{int2} is the greater number\")"
   ]
  },
  {
   "cell_type": "markdown",
   "metadata": {},
   "source": [
    "11) A shop will give discount of 10% if the cost of purchased quantity is more than 1000.\n",
    "Ask user for quantity\n",
    "Suppose, one unit will cost 100.\n",
    "Judge and print total cost for user."
   ]
  },
  {
   "cell_type": "code",
   "execution_count": 32,
   "metadata": {},
   "outputs": [
    {
     "name": "stdout",
     "output_type": "stream",
     "text": [
      "your total bill is 900\n"
     ]
    }
   ],
   "source": [
    "quantity=int(input(\"how many units do you want to purchased\"))\n",
    "if quantity >=10:\n",
    "    bill=quantity*90\n",
    "    print(f'''\"HURRAH!!!! You have got 10% discount\"\\n\"your total bill is {bill}\"''')\n",
    "else:\n",
    "    bill=quantity*100\n",
    "    print(f\"your total bill is {bill}\")"
   ]
  },
  {
   "cell_type": "markdown",
   "metadata": {},
   "source": [
    "12) A school has following rules for grading system:\n",
    "\n",
    "a. Below 25 - F\n",
    "\n",
    "b. 25 to 45 - E\n",
    "\n",
    "c. 45 to 50 - D\n",
    "\n",
    "d. 50 to 60 - C\n",
    "\n",
    "e. 60 to 80 - B\n",
    "\n",
    "f. Above 80 - A\n",
    "\n",
    "Ask user to enter marks and print the corresponding grade."
   ]
  },
  {
   "cell_type": "code",
   "execution_count": 5,
   "metadata": {},
   "outputs": [
    {
     "name": "stdout",
     "output_type": "stream",
     "text": [
      "A Grade\n"
     ]
    }
   ],
   "source": [
    "percentage=int(input(\"what is your percentage\"))\n",
    "if 0<=percentage<=100:\n",
    "    if percentage>=80:\n",
    "        print(\"A Grade\")\n",
    "    elif percentage>=60:\n",
    "        print(\"B Grade\")\n",
    "    elif percentage>=50:\n",
    "        print(\"C Grade\")\n",
    "    elif percentage>=45:\n",
    "        print(\"D Grade\")\n",
    "    elif percentage >=25:\n",
    "        print(\"E Grade\")\n",
    "    else:\n",
    "        print(\"F Grade\")\n",
    "else:\n",
    "    print(\"please entered correct percentage\")\n"
   ]
  },
  {
   "cell_type": "markdown",
   "metadata": {},
   "source": [
    "14)A student will not be allowed to sit in exam if his/her attendence is less than 75%.\n",
    "\n",
    "Take following input from user\n",
    "\n",
    "- Number of classes held\n",
    "\n",
    "- Number of classes attended.\n",
    "\n",
    "And print\n",
    "\n",
    "- percentage of class attended\n",
    "\n",
    "- Is student is allowed to sit in exam or not.\n"
   ]
  },
  {
   "cell_type": "code",
   "execution_count": 8,
   "metadata": {},
   "outputs": [
    {
     "name": "stdout",
     "output_type": "stream",
     "text": [
      "your class attendance is 51.5%\n",
      "You are not allowed to sit in the examination\n"
     ]
    }
   ],
   "source": [
    "number_held=int(input(\"how many classes have been held\"))\n",
    "number_attended=int(input(\"how many classes have you attended\"))\n",
    "percentage=number_attended*100/number_held\n",
    "percentage=round(percentage,2)\n",
    "if percentage>=75:\n",
    "    print(f\"your class attendance is {percentage}%\")\n",
    "    print(\"You are allowed to sit in the examination\")\n",
    "else:\n",
    "    print(f\"your class attendance is {percentage}%\")\n",
    "    print(\"You are not allowed to sit in the examination\")"
   ]
  },
  {
   "cell_type": "markdown",
   "metadata": {},
   "source": [
    "15) Modify the above question to allow student to sit if he/she has medical cause. Ask user if he/she has medical cause or not ( 'Y' or 'N' ) and print accordingly."
   ]
  },
  {
   "cell_type": "code",
   "execution_count": 17,
   "metadata": {},
   "outputs": [
    {
     "name": "stdout",
     "output_type": "stream",
     "text": [
      "You are allowed to sit in the examination\n"
     ]
    }
   ],
   "source": [
    "number_held=int(input(\"how many classes have been held\"))\n",
    "number_attended=int(input(\"how many classes have you attended\"))\n",
    "percentage=number_attended*100/number_held\n",
    "percentage=round(percentage,2)\n",
    "if percentage>=75:\n",
    "    print(f\"your class attendance is {percentage}%\")\n",
    "    print(\"You are allowed to sit in the examination\")\n",
    "else:\n",
    "    medical_cause=str(input(\"Do you have any medical cause (Y OR N)\"))\n",
    "    medical_cause=medical_cause.lower()\n",
    "    if medical_cause==\"y\":\n",
    "        print(\"You are allowed to sit in the examination\")\n",
    "    else:\n",
    "        print(\"You are not allowed to sit in the examination\")"
   ]
  },
  {
   "cell_type": "code",
   "execution_count": null,
   "metadata": {},
   "outputs": [],
   "source": [
    "16) Write a program to check if a year is leap year or not.\n",
    "\n",
    "If a year is divisible by 4 then it is leap year but if the year is century year like 2000, 1900, 2100 then it must be divisible by 400."
   ]
  },
  {
   "cell_type": "code",
   "execution_count": 20,
   "metadata": {},
   "outputs": [
    {
     "name": "stdout",
     "output_type": "stream",
     "text": [
      "its not a leap year\n"
     ]
    }
   ],
   "source": [
    "year=int(input(\"enter an year to check whether it is a leap year or not\"))\n",
    "if (year%400==0 and year%100==0) or (year%4==0 and year%100!=0):\n",
    "    print(\"its a leap year\")\n",
    "else:\n",
    "    print(\"its not a leap year\")"
   ]
  },
  {
   "cell_type": "markdown",
   "metadata": {},
   "source": [
    "17) Ask user to enter age, gender ( M or F ), marital status ( Y or N ) and then using following rules print their place of service.\n",
    "\n",
    "if employee is female, then she will work only in urban areas.\n",
    "\n",
    "if employee is a male and age is in between 20 to 40 then he may work in anywhere\n",
    "\n",
    "if employee is male and age is in between 40 t0 60 then he will work in urban areas only.\n",
    "\n",
    "And any other input of age should print \"ERROR\""
   ]
  },
  {
   "cell_type": "code",
   "execution_count": 2,
   "metadata": {},
   "outputs": [
    {
     "name": "stdout",
     "output_type": "stream",
     "text": [
      "ERROR\n"
     ]
    }
   ],
   "source": [
    "age=int(input(\"what is your age\"))\n",
    "gender=str(input(\"Are you a male/female type(m or f)\"))\n",
    "marital_status=str(input(\"are you married type(y or n)\"))\n",
    "gender=gender.lower()\n",
    "marital_status=marital_status.lower()\n",
    "if gender==\"f\" :\n",
    "    print(\"you will work in urban areas\")\n",
    "elif gender==\"m\" and 20<=age<=40:\n",
    "    print(\"you can work anywhere\")\n",
    "elif gender==\"m\" and 40<=age<=60:\n",
    "    print(\"you will work in urban areas\")\n",
    "else:\n",
    "    print(\"ERROR\")"
   ]
  },
  {
   "cell_type": "markdown",
   "metadata": {},
   "source": [
    "6) Write a program to calculate the electricity bill (accept number of unit from user) according to the following criteria :\n",
    "     Unit                                                     Price  \n",
    "uptp 100 units                                             no charge\n",
    "Next 200 units                                              Rs 5 per unit\n",
    "After 200 units                                             Rs 10 per unit\n",
    "(For example if input unit is 350 than total bill amount is Rs.3500\n",
    "(For example if input unit is 97 than total bill amount is Rs.0\n",
    "(For example if input unit is 150 than total bill amount is Rs.750"
   ]
  },
  {
   "cell_type": "code",
   "execution_count": 7,
   "metadata": {},
   "outputs": [
    {
     "name": "stdout",
     "output_type": "stream",
     "text": [
      "please enter correct units\n"
     ]
    }
   ],
   "source": [
    "units=int(input(\"how many units have you used\"))\n",
    "if 0<=units<=100:\n",
    "    electricity_bill=0\n",
    "    print(\"Your electricity bill is O\")\n",
    "elif 101<=units<=200:\n",
    "    electricity_bill=units*5\n",
    "    print(f\"Your electricity bill is Rs{electricity_bill} \")\n",
    "elif units>200:\n",
    "    electricity_bill=units*10\n",
    "    print(f\"Your electricity bill is Rs{electricity_bill} \")\n",
    "else:\n",
    "    print(\"please enter correct units\")"
   ]
  },
  {
   "cell_type": "markdown",
   "metadata": {},
   "source": [
    "13) Take input of age of 3 people by user and determine oldest and youngest among them."
   ]
  },
  {
   "cell_type": "code",
   "execution_count": 10,
   "metadata": {},
   "outputs": [
    {
     "name": "stdout",
     "output_type": "stream",
     "text": [
      "Person1 is the oldest among all\n",
      " Person3 is youngest among all\n"
     ]
    }
   ],
   "source": [
    "person1=int(input(\"please enter your age of first person\"))\n",
    "person2=int(input(\"please enter your age of second person\"))\n",
    "person3=int(input(\"please enter your age of third person\"))\n",
    "if person3<person1>person2 and person2>person3:\n",
    "    print(\"Person1 is the oldest among all\\n Person3 is youngest among all\")\n",
    "elif person3<person1>person2 and person3>person2:\n",
    "    print(\"Person1 is the oldest among all\\n Person2 is youngest among all\")\n",
    "elif person1<person2>person3 and person1>person3:\n",
    "    print(\"Person2 is the oldest among all\\n Person3 is youngest among all\")\n",
    "elif person1<person2>person3 and person3>person1:\n",
    "    print(\"Person2 is the oldest among all\\n Person1 is youngest among all\")\n",
    "elif person1<person3>person2 and person1>person2:\n",
    "    print(\"Person3 is the oldest among all\\n Person2 is youngest among all\")\n",
    "else:\n",
    "    print(\"Person3 is the oldest among all\\n Person1 is youngest among all\")"
   ]
  },
  {
   "cell_type": "code",
   "execution_count": null,
   "metadata": {},
   "outputs": [],
   "source": []
  }
 ],
 "metadata": {
  "kernelspec": {
   "display_name": "Python 3 (ipykernel)",
   "language": "python",
   "name": "python3"
  },
  "language_info": {
   "codemirror_mode": {
    "name": "ipython",
    "version": 3
   },
   "file_extension": ".py",
   "mimetype": "text/x-python",
   "name": "python",
   "nbconvert_exporter": "python",
   "pygments_lexer": "ipython3",
   "version": "3.11.4"
  }
 },
 "nbformat": 4,
 "nbformat_minor": 2
}
