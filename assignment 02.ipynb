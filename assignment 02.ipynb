{
 "cells": [
  {
   "cell_type": "code",
   "execution_count": 1,
   "metadata": {},
   "outputs": [
    {
     "data": {
      "text/plain": [
       "'Task\\nGiven an integer, , perform the following conditional actions:\\n\\nIf  is odd, print Weird\\nIf  is even and in the inclusive range of  to , print Not Weird\\nIf  is even and in the inclusive range of  to , print Weird\\nIf  is even and greater than , print Not Weird\\nInput Format\\n\\nA single line containing a positive integer, .\\n\\nConstraints\\n\\nOutput Format\\n\\nPrint Weird if the number is weird. Otherwise, print Not Weird.'"
      ]
     },
     "execution_count": 1,
     "metadata": {},
     "output_type": "execute_result"
    }
   ],
   "source": [
    "'''Task\n",
    "Given an integer, , perform the following conditional actions:\n",
    "\n",
    "If  is odd, print Weird\n",
    "If  is even and in the inclusive range of  to , print Not Weird\n",
    "If  is even and in the inclusive range of  to , print Weird\n",
    "If  is even and greater than , print Not Weird\n",
    "Input Format\n",
    "\n",
    "A single line containing a positive integer, .\n",
    "\n",
    "Constraints\n",
    "\n",
    "Output Format\n",
    "\n",
    "Print Weird if the number is weird. Otherwise, print Not Weird.'''"
   ]
  },
  {
   "cell_type": "code",
   "execution_count": 5,
   "id": "ea002b7e",
   "metadata": {},
   "outputs": [
    {
     "name": "stdout",
     "output_type": "stream",
     "text": [
      "Weird\n"
     ]
    }
   ],
   "source": [
    "n=int(input(\"input n\"))\n",
    "if 1<=n<=100:\n",
    "    if n%2 !=0:\n",
    "        print(\"Weird\")\n",
    "    elif n%2==0 and 2<=n<=5:\n",
    "        print(\"Not Weird\")\n",
    "    elif n%2==0 and 6<=n<=20:\n",
    "        print(\"Weird\") \n",
    "    else:\n",
    "        print(\"Not Weird\")     \n",
    "\n"
   ]
  },
  {
   "cell_type": "code",
   "execution_count": null,
   "id": "a410abec",
   "metadata": {},
   "outputs": [],
   "source": []
  }
 ],
 "metadata": {
  "kernelspec": {
   "display_name": "Python 3",
   "language": "python",
   "name": "python3"
  },
  "language_info": {
   "codemirror_mode": {
    "name": "ipython",
    "version": 3
   },
   "file_extension": ".py",
   "mimetype": "text/x-python",
   "name": "python",
   "nbconvert_exporter": "python",
   "pygments_lexer": "ipython3",
   "version": "3.11.4"
  }
 },
 "nbformat": 4,
 "nbformat_minor": 5
}
