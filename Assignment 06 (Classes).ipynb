{
  "cells": [
    {
      "cell_type": "markdown",
      "metadata": {
        "id": "XLFr4w_7OFN7"
      },
      "source": [
        "1. Write a Python program to create a class representing a Circle. Include methods to calculate its area and perimeter."
      ]
    },
    {
      "cell_type": "code",
      "execution_count": 11,
      "metadata": {},
      "outputs": [
        {
          "name": "stdout",
          "output_type": "stream",
          "text": [
            "the area of the circle is 12.568\n",
            "the perimeter of the circle is 628.4\n"
          ]
        }
      ],
      "source": [
        "class Circle():\n",
        "    def __init__(self):\n",
        "            pass\n",
        "    def area(self,radius):\n",
        "        area=(3.142)*(radius**2)\n",
        "        print(f\"the area of the circle is {area}\")\n",
        "    \n",
        "    def perimeter(self,radius):\n",
        "        perimeter=(2*3.142)*(radius)\n",
        "        print(f\"the perimeter of the circle is {perimeter}\")\n",
        "    \n",
        "circle1=Circle()\n",
        "circle1.area(2)\n",
        "circle1.perimeter(100)\n",
        "        \n",
        "        "
      ]
    },
    {
      "cell_type": "markdown",
      "metadata": {
        "id": "CBPk4mH4OTCO"
      },
      "source": [
        "2. Write a Python program to create a person class. Include attributes like name, country and date of birth. Implement a method to determine the person's age.\n"
      ]
    },
    {
      "cell_type": "code",
      "execution_count": 16,
      "metadata": {},
      "outputs": [
        {
          "name": "stdout",
          "output_type": "stream",
          "text": [
            "imran is 32 years old.\n"
          ]
        }
      ],
      "source": [
        "from datetime import datetime\n",
        "\n",
        "class Person():\n",
        "    def __init__(self,name,country,dob):\n",
        "        self.name=name\n",
        "        self.country=country\n",
        "        self.dob=dob\n",
        "    \n",
        "    def person_age(self):\n",
        "        today=datetime.today()\n",
        "        age=today.year-self.dob.year\n",
        "\n",
        "        if (today.month, today.day) < (self.dob.month, self.dob.day):\n",
        "            age -= 1\n",
        "\n",
        "        print(f\"{self.name} is {age} years old.\")\n",
        "\n",
        "person1=Person(\"imran\",\"pakistan\",datetime(1992,1,11))\n",
        "person1.person_age()\n"
      ]
    },
    {
      "cell_type": "markdown",
      "metadata": {},
      "source": [
        "3. Write a Python program to create a calculator class. Include methods for basic arithmetic operations."
      ]
    },
    {
      "cell_type": "code",
      "execution_count": 26,
      "metadata": {},
      "outputs": [
        {
          "name": "stdout",
          "output_type": "stream",
          "text": [
            "the answer is 174\n",
            "the answer is 35\n",
            "the answer is 36\n",
            "the answer is 50.0\n",
            "the answer is 81\n",
            "the answer is 120\n"
          ]
        }
      ],
      "source": [
        "class Arithmetic_Operations():\n",
        "    def __init__(self,a,b):\n",
        "        self.a=a\n",
        "        self.b=b\n",
        "\n",
        "    def addition(self,a,b):\n",
        "        addition= a+b\n",
        "        print(f\"the answer is {addition}\")\n",
        "\n",
        "    def subtraction(self,a,b):\n",
        "        subtraction= a-b\n",
        "        print(f\"the answer is {subtraction}\")\n",
        "\n",
        "    def multiplication(self,a,b):\n",
        "        multiplication= a*b\n",
        "        print(f\"the answer is {multiplication}\")\n",
        "\n",
        "    def division(self,a,b):\n",
        "        division= round((a/b),2)\n",
        "        print(f\"the answer is {division}\")\n",
        "\n",
        "    def exponent(self,a,b):\n",
        "        exponent= a**b\n",
        "        print(f\"the answer is {exponent}\")\n",
        "\n",
        "\n",
        "    def factorial(self,a):\n",
        "        factorial=1\n",
        "        for i in range(1,a+1):\n",
        "            factorial*=i\n",
        "        print(f\"the answer is {factorial}\")\n",
        "        \n",
        "operation1=Arithmetic_Operations(10,20)\n",
        "operation1.addition(99,75)\n",
        "operation1.subtraction(100,65)\n",
        "operation1.multiplication(2,18)\n",
        "operation1.division(200,4)\n",
        "operation1.exponent(3,4)\n",
        "operation1.factorial(5)"
      ]
    },
    {
      "cell_type": "code",
      "execution_count": null,
      "metadata": {},
      "outputs": [],
      "source": []
    }
  ],
  "metadata": {
    "colab": {
      "provenance": []
    },
    "kernelspec": {
      "display_name": "base",
      "language": "python",
      "name": "python3"
    },
    "language_info": {
      "codemirror_mode": {
        "name": "ipython",
        "version": 3
      },
      "file_extension": ".py",
      "mimetype": "text/x-python",
      "name": "python",
      "nbconvert_exporter": "python",
      "pygments_lexer": "ipython3",
      "version": "3.11.7"
    }
  },
  "nbformat": 4,
  "nbformat_minor": 0
}
