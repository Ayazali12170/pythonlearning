{
 "cells": [
  {
   "cell_type": "code",
   "execution_count": 1,
   "metadata": {},
   "outputs": [],
   "source": [
    "# 1. Write a program that accepts a string from user. Your program should count and display number of\n",
    "# vowels in that string"
   ]
  },
  {
   "cell_type": "code",
   "execution_count": 27,
   "id": "bf0fb796",
   "metadata": {},
   "outputs": [
    {
     "name": "stdout",
     "output_type": "stream",
     "text": [
      "['a', 'i', 'e', 'i', 'a', 'i', 'i', 'i', 'e', 'e']\n",
      "no of vowels in given string are '10' \n"
     ]
    }
   ],
   "source": [
    "user_input=input(\"Enter your word\")\n",
    "vowels=['a','e','i','o','u']\n",
    "no_of_vowels=0\n",
    "vowels_in_word=[]\n",
    "for vowel in user_input:\n",
    "    for string in vowels:\n",
    "        if vowel==string:\n",
    "            vowels_in_word.append(vowel)\n",
    "            no_of_vowels +=1\n",
    "print(vowels_in_word)\n",
    "print(f\"no of vowels in given string are '{no_of_vowels}' \")"
   ]
  },
  {
   "cell_type": "code",
   "execution_count": 28,
   "id": "42072212",
   "metadata": {},
   "outputs": [
    {
     "data": {
      "text/plain": [
       "'2. Write a program that reads a string from keyboard and display:\\n* The number of uppercase letters in the string\\n* The number of lowercase letters in the string\\n* The number of digits in the string\\n* The number of whitespace characters in the string'"
      ]
     },
     "execution_count": 28,
     "metadata": {},
     "output_type": "execute_result"
    }
   ],
   "source": [
    "'''2. Write a program that reads a string from keyboard and display:\n",
    "* The number of uppercase letters in the string\n",
    "* The number of lowercase letters in the string\n",
    "* The number of digits in the string\n",
    "* The number of whitespace characters in the string'''"
   ]
  },
  {
   "cell_type": "code",
   "execution_count": 33,
   "id": "dbf8466d",
   "metadata": {},
   "outputs": [
    {
     "name": "stdout",
     "output_type": "stream",
     "text": [
      "There are \n",
      " 2 upper case letters \n",
      " 8 lower case letters \n",
      " 3 digits \n",
      " 2 whitespace characters in the string\n"
     ]
    }
   ],
   "source": [
    "string=input(\"Enter a string\")\n",
    "no_of_UPPER_CASE=0\n",
    "no_of_lower_case=0\n",
    "no_of_digit=0\n",
    "no_of_whitespace_characters=0\n",
    "\n",
    "for char in string:\n",
    "    if char.isupper():\n",
    "        no_of_UPPER_CASE +=1\n",
    "    elif char.islower():\n",
    "        no_of_lower_case +=1\n",
    "    elif char.isdigit():\n",
    "        no_of_digit +=1\n",
    "    elif char.isspace():\n",
    "        no_of_whitespace_characters +=1\n",
    "print(f\"There are \\n {no_of_UPPER_CASE} upper case letters \\n {no_of_lower_case} lower case letters \\n {no_of_digit} digits \\n {no_of_whitespace_characters} whitespace characters in the string\")"
   ]
  },
  {
   "cell_type": "code",
   "execution_count": 1,
   "id": "b1e95211",
   "metadata": {},
   "outputs": [
    {
     "data": {
      "text/plain": [
       "\"3. Write a Python program that accepts a string from user. Your program should create and display a\\nnew string where the first and last characters have been exchanged.\\nFor example if the user enters the string 'HELLO' then new string would be 'OELLH\""
      ]
     },
     "execution_count": 1,
     "metadata": {},
     "output_type": "execute_result"
    }
   ],
   "source": [
    "'''3. Write a Python program that accepts a string from user. Your program should create and display a\n",
    "new string where the first and last characters have been exchanged.\n",
    "For example if the user enters the string 'HELLO' then new string would be 'OELLH'''"
   ]
  },
  {
   "cell_type": "code",
   "execution_count": 8,
   "id": "7d2d59e8",
   "metadata": {},
   "outputs": [
    {
     "name": "stdout",
     "output_type": "stream",
     "text": [
      "pweioq\n"
     ]
    }
   ],
   "source": [
    "user_input=input(\"Enter String\")\n",
    "user_input=list(user_input)\n",
    "first_alphabet=user_input[0]\n",
    "last_alphabet=user_input[-1]\n",
    "user_input.pop(0)\n",
    "user_input.pop(-1)\n",
    "user_input.append(first_alphabet)\n",
    "user_input.insert(0,last_alphabet)\n",
    "new_string=''.join(user_input)\n",
    "print(new_string)\n"
   ]
  },
  {
   "cell_type": "code",
   "execution_count": 9,
   "id": "42cbb334",
   "metadata": {},
   "outputs": [
    {
     "data": {
      "text/plain": [
       "\"4. Write a Python program that accepts a string from user. Your program should create a new string in\\nreverse of first string and display it.\\nFor example if the user enters the string 'EXAM' then new string would be 'MAXE' \""
      ]
     },
     "execution_count": 9,
     "metadata": {},
     "output_type": "execute_result"
    }
   ],
   "source": [
    "'''4. Write a Python program that accepts a string from user. Your program should create a new string in\n",
    "reverse of first string and display it.\n",
    "For example if the user enters the string 'EXAM' then new string would be 'MAXE' '''\n"
   ]
  },
  {
   "cell_type": "code",
   "execution_count": 15,
   "id": "e6ab8e13",
   "metadata": {},
   "outputs": [
    {
     "name": "stdout",
     "output_type": "stream",
     "text": [
      "poiewq\n"
     ]
    }
   ],
   "source": [
    "user_input=input(\"Enter String\")\n",
    "reversed_string = user_input[::-1]\n",
    "print(reversed_string)\n",
    "\n"
   ]
  },
  {
   "cell_type": "code",
   "execution_count": 16,
   "id": "8fc75371",
   "metadata": {},
   "outputs": [
    {
     "data": {
      "text/plain": [
       "\"5. Write a Python program that accepts a string from user. Your program should create a new string by\\nshifting one position to left.\\nFor example if the user enters the string 'examination 2021' then new string would be 'xamination\\n2021e' \""
      ]
     },
     "execution_count": 16,
     "metadata": {},
     "output_type": "execute_result"
    }
   ],
   "source": [
    "'''5. Write a Python program that accepts a string from user. Your program should create a new string by\n",
    "shifting one position to left.\n",
    "For example if the user enters the string 'examination 2021' then new string would be 'xamination\n",
    "2021e' '''"
   ]
  },
  {
   "cell_type": "code",
   "execution_count": 19,
   "id": "1e506cd7",
   "metadata": {},
   "outputs": [
    {
     "name": "stdout",
     "output_type": "stream",
     "text": [
      "xamination 2021e\n"
     ]
    }
   ],
   "source": [
    "user_input=input(\"Enter String\")\n",
    "new_string=user_input[1:] + user_input[0]\n",
    "print(new_string)"
   ]
  },
  {
   "cell_type": "code",
   "execution_count": 20,
   "id": "7c2502e7",
   "metadata": {},
   "outputs": [
    {
     "data": {
      "text/plain": [
       "\"  6. Write a program that asks the user to input his name and print its initials. Assuming that the user\\nalways types first name, middle name and last name and does not include any unnecessary spaces.\\nFor example, if the user enters Ajay Kumar Garg the program should display A. K. G.\\nNote:Don't use split() method\""
      ]
     },
     "execution_count": 20,
     "metadata": {},
     "output_type": "execute_result"
    }
   ],
   "source": [
    "'''  6. Write a program that asks the user to input his name and print its initials. Assuming that the user\n",
    "always types first name, middle name and last name and does not include any unnecessary spaces.\n",
    "For example, if the user enters Ajay Kumar Garg the program should display A. K. G.\n",
    "Note:Don't use split() method'''"
   ]
  },
  {
   "cell_type": "code",
   "execution_count": 25,
   "id": "a6dd4775",
   "metadata": {},
   "outputs": [
    {
     "name": "stdout",
     "output_type": "stream",
     "text": [
      " Q. A. Z. \n"
     ]
    }
   ],
   "source": [
    "user_input=input(\"Enter your full name\")\n",
    "initials=\" \"\n",
    "for i in range(len(user_input)):\n",
    "    if i == 0 or user_input[i-1] == ' ':\n",
    "        initials += user_input[i].upper() + '. '\n",
    "print(initials)"
   ]
  },
  {
   "cell_type": "code",
   "execution_count": 26,
   "id": "5fcfb94d",
   "metadata": {},
   "outputs": [
    {
     "data": {
      "text/plain": [
       "' 7. A palindrome is a string that reads the same backward as forward. For example, the words dad,\\nmadam and radar are all palindromes. Write a programs that determines whether the string is a\\npalindrome.\\nNote: do not use reverse() method '"
      ]
     },
     "execution_count": 26,
     "metadata": {},
     "output_type": "execute_result"
    }
   ],
   "source": [
    "''' 7. A palindrome is a string that reads the same backward as forward. For example, the words dad,\n",
    "madam and radar are all palindromes. Write a programs that determines whether the string is a\n",
    "palindrome.\n",
    "Note: do not use reverse() method '''\n"
   ]
  },
  {
   "cell_type": "code",
   "execution_count": 39,
   "id": "bbc2a8fe",
   "metadata": {},
   "outputs": [
    {
     "name": "stdout",
     "output_type": "stream",
     "text": [
      "an na is a palindrome\n"
     ]
    }
   ],
   "source": [
    "user_input=input(\"Enter String\")\n",
    "reversed_string = user_input[::-1]\n",
    "if user_input==reversed_string:\n",
    "    print(f\"{user_input} is a palindrome\")\n",
    "else:\n",
    "    print(f\"{user_input} is not a palindrome\")\n",
    "    \n"
   ]
  },
  {
   "cell_type": "code",
   "execution_count": 28,
   "id": "bfcff90d",
   "metadata": {},
   "outputs": [
    {
     "data": {
      "text/plain": [
       "'8. Write a program that display following output:\\nSHIFT\\nHIFTS\\nIFTSH\\nFTSHI\\nTSHIF\\nSHIFT'"
      ]
     },
     "execution_count": 28,
     "metadata": {},
     "output_type": "execute_result"
    }
   ],
   "source": [
    "'''8. Write a program that display following output:\n",
    "SHIFT\n",
    "HIFTS\n",
    "IFTSH\n",
    "FTSHI\n",
    "TSHIF\n",
    "SHIFT'''"
   ]
  },
  {
   "cell_type": "code",
   "execution_count": 35,
   "id": "aa192249",
   "metadata": {},
   "outputs": [
    {
     "name": "stdout",
     "output_type": "stream",
     "text": [
      "SHIFT\n",
      "HIFTS\n",
      "IFTSH\n",
      "FTSHI\n",
      "TSHIF\n",
      "SHIFT\n"
     ]
    }
   ],
   "source": [
    "user_input=input(\"Enter String\")\n",
    "\n",
    "for i in range(len(user_input)+1):\n",
    "    new_string=user_input[1:] + user_input[0]\n",
    "    print(user_input)\n",
    "    user_input=new_string\n"
   ]
  },
  {
   "cell_type": "code",
   "execution_count": 45,
   "id": "11a4e028",
   "metadata": {},
   "outputs": [
    {
     "name": "stdout",
     "output_type": "stream",
     "text": [
      "Password must contain at least one numeric digit.\n"
     ]
    }
   ],
   "source": [
    "'''  9. Write a program in python that accepts a string to setup a passwords. Your entered password must\n",
    "meet the following requirements: \n",
    "The password must be at least eight characters long.\n",
    "It must contain at least one uppercase letter.\n",
    "It must contain at least one lowercase letter.\n",
    "It must contain at least one numeric digit.\n",
    "Your program should should perform this validation.   '''\n",
    "\n",
    "import re\n",
    "\n",
    "def validate_password(password):\n",
    " \n",
    "    if len(password) < 8:\n",
    "        return \"Password must be at least 8 characters long.\"\n",
    "\n",
    "    if not re.search(r'[A-Z]', password):\n",
    "        return \"Password must contain at least one uppercase letter.\"\n",
    "\n",
    "    if not re.search(r'[a-z]', password):\n",
    "        return \"Password must contain at least one lowercase letter.\"\n",
    "\n",
    "    if not re.search(r'[0-9]', password):\n",
    "        return \"Password must contain at least one numeric digit.\"\n",
    "    \n",
    "    return (\"Password is valid.\")\n",
    "\n",
    "password = input(\"Enter a password: \")\n",
    "\n",
    "validation_result = validate_password(password)\n",
    "print(validation_result)\n",
    "\n",
    "    \n"
   ]
  },
  {
   "cell_type": "code",
   "execution_count": null,
   "id": "2d7ab3af",
   "metadata": {},
   "outputs": [],
   "source": [
    " "
   ]
  }
 ],
 "metadata": {
  "kernelspec": {
   "display_name": "Python 3",
   "language": "python",
   "name": "python3"
  },
  "language_info": {
   "codemirror_mode": {
    "name": "ipython",
    "version": 3
   },
   "file_extension": ".py",
   "mimetype": "text/x-python",
   "name": "python",
   "nbconvert_exporter": "python",
   "pygments_lexer": "ipython3",
   "version": "3.11.4"
  }
 },
 "nbformat": 4,
 "nbformat_minor": 5
}
