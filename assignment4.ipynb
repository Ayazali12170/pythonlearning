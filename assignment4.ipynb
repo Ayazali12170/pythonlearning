{
 "cells": [
  {
   "cell_type": "code",
   "execution_count": 9,
   "metadata": {},
   "outputs": [
    {
     "name": "stdout",
     "output_type": "stream",
     "text": [
      "['q', 'e', 't']\n"
     ]
    }
   ],
   "source": [
    "# 1. Write a program that accepts a list from user and print the alternate element of list. \n",
    "user_input=input(\"Enter elements,separated by a comma\")\n",
    "list=user_input.split(',')\n",
    "alternate_list=[]\n",
    "for i in range(0, len(list), 2):\n",
    "    alternate_list.append(list[i])\n",
    "print(alternate_list)"
   ]
  },
  {
   "cell_type": "code",
   "execution_count": 12,
   "id": "d98765cb",
   "metadata": {},
   "outputs": [
    {
     "name": "stdout",
     "output_type": "stream",
     "text": [
      "['q', 'w', 'e', 'r', 't', 'y']\n",
      "['y', 't', 'r', 'e', 'w', 'q']\n"
     ]
    }
   ],
   "source": [
    "'''2. Write a program that accepts a list from user. Your program should reverse the content of list and\n",
    "display it. Do not use reverse() method. '''\n",
    "\n",
    "list=(input(\"Enter elements,separated by a comma\")).split(',')\n",
    "reverse_list=list[::-1]\n",
    "print(reverse_list)"
   ]
  },
  {
   "cell_type": "code",
   "execution_count": 24,
   "id": "e89fd3b9",
   "metadata": {},
   "outputs": [
    {
     "name": "stdout",
     "output_type": "stream",
     "text": [
      "The largest number in the list is: 66\n"
     ]
    }
   ],
   "source": [
    "''' 3. Find and display the largest number of a list without using built-in function max(). Your program\n",
    "should ask the user to input values in list from keyboard. '''\n",
    "\n",
    "user_input=input(\"Enter elements,separated by a space\")  \n",
    "list=user_input.split()\n",
    "list = [int(item) for item in user_input.split()]\n",
    "max_number=list[0]\n",
    "for number in list:\n",
    "    if number >max_number:\n",
    "        max_number=number\n",
    "\n",
    "print(\"The largest number in the list is:\", max_number)\n",
    "\n",
    "\n"
   ]
  },
  {
   "cell_type": "code",
   "execution_count": 10,
   "id": "0fc3d7e1",
   "metadata": {},
   "outputs": [
    {
     "name": "stdout",
     "output_type": "stream",
     "text": [
      "['5', '1', '2', '3', '4']\n"
     ]
    }
   ],
   "source": [
    "'''4. Write a program that rotates the element of a list so that the element at the first index moves to the\n",
    "second index, the element in the second index moves to the third index, etc., and the element in the last\n",
    "index moves to the first index.'''\n",
    "\n",
    "list=['1','2','3','4','5']\n",
    "def rotate_list(list):\n",
    "    if len(list) == 0:\n",
    "        return list\n",
    "    return [list[-1]] + list[:-1]\n",
    "print(rotate_list(list))\n",
    "\n"
   ]
  },
  {
   "cell_type": "code",
   "execution_count": null,
   "id": "dad34f2e",
   "metadata": {},
   "outputs": [],
   "source": [
    "'''5. Write a program that input a string and ask user to delete a given word from a string. '''\n",
    "\n",
    "def deleted_word(s, word):\n",
    "    result = s.replace(word, \"\").strip()\n",
    "    result = ' '.join(result.split())\n",
    "    return result\n",
    "\n",
    "input_string = input(\"Enter a string: \")\n",
    "word_to_delete = input(\"Enter the word to delete: \")\n",
    "\n",
    "result_string = deleted_word(input_string, word_to_delete)\n",
    "print(\"Original string:\", input_string)\n",
    "print(\"String after deletion:\", result_string)\n"
   ]
  },
  {
   "cell_type": "code",
   "execution_count": 7,
   "id": "3b247119",
   "metadata": {},
   "outputs": [
    {
     "name": "stdout",
     "output_type": "stream",
     "text": [
      "September 26, 2018\n"
     ]
    }
   ],
   "source": [
    "'''6. Write a program that reads a string from the user containing a date in the form mm/dd/yyyy. It\n",
    "should print the date in the form March 12, 2021. '''\n",
    "date_input= input(\"write date in the pattern mm/dd/yyyy,separated by /\")\n",
    "month , day, year =date_input.split('/')\n",
    "months={'01':'January',\n",
    "        '02':'Febuary',\n",
    "        '03':'March',\n",
    "        '04':'April',\n",
    "        '05':'May',\n",
    "        '06':'June',\n",
    "        '07':'July',\n",
    "        '08':'August',\n",
    "        '09':'September',\n",
    "        '10':'October',\n",
    "        '11':'November',\n",
    "        '12':'December'}\n",
    "print(f\"{months[month]} {int(day)}, {year}\")\n"
   ]
  },
  {
   "cell_type": "code",
   "execution_count": 1,
   "id": "1d740eab",
   "metadata": {},
   "outputs": [
    {
     "name": "stdout",
     "output_type": "stream",
     "text": [
      "Stop And Smell The Roses\n"
     ]
    }
   ],
   "source": [
    "'''7. Write a program with a function that accepts a string from keyboard and create a new string after\n",
    "converting character of each word capitalized. For instance, if the sentence is \"stop and smell the roses.\"\n",
    "the output should be \"Stop And Smell The Roses\" '''\n",
    "\n",
    "user_input=input(\"enter a sentence\")\n",
    "sentence=user_input.title()\n",
    "print(sentence)"
   ]
  },
  {
   "cell_type": "code",
   "execution_count": 2,
   "id": "74878bf5",
   "metadata": {},
   "outputs": [
    {
     "name": "stdout",
     "output_type": "stream",
     "text": [
      "Sum of each row: [32, 31, 63]\n"
     ]
    }
   ],
   "source": [
    "'''8. Find the sum of each row of matrix of size m x n. For example for the following matrix output will be\n",
    "like this :\n",
    "Sum of row 1 = 32\n",
    "Sum of row 2 = 31\n",
    "Sum of row 3 = 63 '''\n",
    "matrix=[[2, 11, 7, 12],\n",
    "        [5, 2, 9, 15],\n",
    "        [8,3,10, 42]        \n",
    "]\n",
    "def sum_of_rows(matrix):\n",
    "    row_sums = [sum(row) for row in matrix]\n",
    "    return row_sums\n",
    "\n",
    "row_sums = sum_of_rows(matrix)\n",
    "print(\"Sum of each row:\", row_sums)"
   ]
  },
  {
   "cell_type": "code",
   "execution_count": 6,
   "id": "ee5b992e",
   "metadata": {},
   "outputs": [
    {
     "name": "stdout",
     "output_type": "stream",
     "text": [
      "Resultant Matrix is:\n",
      "[10, 10, 10]\n",
      "[10, 14, 10]\n",
      "[7, 10, 7]\n"
     ]
    }
   ],
   "source": [
    "'''9. Write a program to add two matrices of size n x m.'''\n",
    "def add_matrices(matrix1, matrix2):\n",
    "    return [[c1 + c2 for c1, c2 in zip(r1, r2)] for r1, r2 in zip(matrix1, matrix2)]\n",
    "\n",
    "matrix1 = [[1, 2, 3], \n",
    "           [4, 9, 6], \n",
    "           [7, 8, 6]]\n",
    "matrix2 = [[9, 8, 7], \n",
    "           [6, 5, 4], \n",
    "           [0, 2, 1]]\n",
    "\n",
    "result_matrix = add_matrices(matrix1, matrix2)\n",
    "print(\"Resultant Matrix is:\")\n",
    "for row in result_matrix:\n",
    "    print(row)\n"
   ]
  },
  {
   "cell_type": "code",
   "execution_count": 7,
   "id": "62ff1899",
   "metadata": {},
   "outputs": [
    {
     "name": "stdout",
     "output_type": "stream",
     "text": [
      "Resultant Matrix after Multiplication:\n",
      "[58, 64]\n",
      "[139, 154]\n"
     ]
    }
   ],
   "source": [
    "'''10. Write a program to multiply two matrices'''\n",
    "\n",
    "def multiply_matrices(matrix1, matrix2):\n",
    "\n",
    "    rows_matrix1 = len(matrix1)\n",
    "    cols_matrix1 = len(matrix1[0])\n",
    "    cols_matrix2 = len(matrix2[0])\n",
    "    \n",
    "    result = [[0 for _ in range(cols_matrix2)] for _ in range(rows_matrix1)]\n",
    "\n",
    "    for i in range(rows_matrix1):\n",
    "        for j in range(cols_matrix2):\n",
    "            for k in range(cols_matrix1):\n",
    "                result[i][j] += matrix1[i][k] * matrix2[k][j]\n",
    "    \n",
    "    return result\n",
    "\n",
    "matrix1 = [\n",
    "    [1, 2, 3],\n",
    "    [4, 5, 6]\n",
    "]\n",
    "\n",
    "matrix2 = [\n",
    "    [7, 8],\n",
    "    [9, 10],\n",
    "    [11, 12]\n",
    "]\n",
    "\n",
    "result_matrix = multiply_matrices(matrix1, matrix2)\n",
    "\n",
    "print(\"Resultant Matrix after Multiplication:\")\n",
    "for row in result_matrix:\n",
    "    print(row)\n"
   ]
  },
  {
   "cell_type": "code",
   "execution_count": null,
   "id": "40586288",
   "metadata": {},
   "outputs": [],
   "source": []
  }
 ],
 "metadata": {
  "kernelspec": {
   "display_name": "Python 3",
   "language": "python",
   "name": "python3"
  },
  "language_info": {
   "codemirror_mode": {
    "name": "ipython",
    "version": 3
   },
   "file_extension": ".py",
   "mimetype": "text/x-python",
   "name": "python",
   "nbconvert_exporter": "python",
   "pygments_lexer": "ipython3",
   "version": "3.11.4"
  }
 },
 "nbformat": 4,
 "nbformat_minor": 5
}
